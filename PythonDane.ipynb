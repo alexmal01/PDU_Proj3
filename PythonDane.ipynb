{
 "cells": [
  {
   "cell_type": "code",
   "execution_count": 12,
   "id": "c03b4365",
   "metadata": {},
   "outputs": [],
   "source": [
    "import numpy as np, pandas as pd, pandas_read_xml as pdx\n",
    "import xml.etree.ElementTree as et \n",
    "\n"
   ]
  },
  {
   "cell_type": "code",
   "execution_count": 15,
   "id": "359e8e17",
   "metadata": {},
   "outputs": [],
   "source": [
    "def parse_XML(xml_file, df_cols): \n",
    "    \n",
    "    xtree = et.parse(xml_file)\n",
    "    xroot = xtree.getroot()\n",
    "    rows = []\n",
    "    \n",
    "    for node in xroot: \n",
    "        res = []\n",
    "        res.append(node.attrib.get(df_cols[0]))\n",
    "        for el in df_cols[1:]: \n",
    "            if node is not None and node.find(el) is not None:\n",
    "                res.append(node.find(el).text)\n",
    "            else: \n",
    "                res.append(None)\n",
    "        rows.append({df_cols[i]: res[i] \n",
    "                     for i, _ in enumerate(df_cols)})\n",
    "    \n",
    "    out_df = pd.DataFrame(rows, columns=df_cols)\n",
    "        \n",
    "    return out_df"
   ]
  },
  {
   "cell_type": "code",
   "execution_count": 20,
   "id": "af361f90",
   "metadata": {},
   "outputs": [],
   "source": [
    "AndroidBadges = pd.read_csv(\"AndroidBadges.csv\")\n",
    "AndroidComments = pd.read_csv(\"AndroidComments.csv\")\n",
    "AndroidPostHistory = pd.read_csv(\"AndroidPostHistory.csv\")\n",
    "AndroidPostLinks = pd.read_csv(\"AndroidPostLinks.csv\")\n",
    "AndroidPosts = pd.read_csv(\"AndroidPosts.csv\")\n",
    "AndroidUsers = pd.read_csv(\"AndroidUsers.csv\")\n",
    "AndroidVotes = pd.read_csv(\"AndroidVotes.csv\")\n",
    "\n",
    "AppleBadges = pd.read_csv(\"AppleBadges.csv\")\n",
    "AppleComments = pd.read_csv(\"AppleComments.csv\")\n",
    "ApplePostHistory = pd.read_csv(\"ApplePostHistory.csv\")\n",
    "ApplePostLinks = pd.read_csv(\"ApplePostLinks.csv\")\n",
    "ApplePosts = pd.read_csv(\"ApplePosts.csv\")\n",
    "AppleUsers = pd.read_csv(\"AppleUsers.csv\")\n",
    "AppleVotes = pd.read_csv(\"AppleVotes.csv\")\n",
    "\n",
    "WindowsPhoneBadges = pd.read_csv(\"WindowsPhoneBadges.csv\")\n",
    "WindowsPhoneComments = pd.read_csv(\"WindowsPhoneComments.csv\")\n",
    "WindowsPhonePostHistory = pd.read_csv(\"WindowsPhonePostHistory.csv\")\n",
    "WindowsPhonePostLinks = pd.read_csv(\"WindowsPhonePostLinks.csv\")\n",
    "WindowsPhonePosts = pd.read_csv(\"WindowsPhonePosts.csv\")\n",
    "WindowsPhoneUsers = pd.read_csv(\"WindowsPhoneUsers.csv\")\n",
    "WindowsPhoneVotes = pd.read_csv(\"WindowsPhoneVotes.csv\")\n",
    "\n",
    "AndroidPyt1 = pd.read_csv(\"AndroidPyt1.csv\")\n",
    "AndroidPyt2 = pd.read_csv(\"AndroidPyt2.csv\")\n",
    "AndroidPyt3 = pd.read_csv(\"AndroidPyt3.csv\")\n",
    "AndroidPyt4 = pd.read_csv(\"AndroidPyt4Model.csv\")\n",
    "\n",
    "ApplePyt1 = pd.read_csv(\"ApplePyt1.csv\")\n",
    "ApplePyt2 = pd.read_csv(\"ApplePyt2.csv\")\n",
    "ApplePyt3 = pd.read_csv(\"ApplePyt3.csv\")\n",
    "ApplePyt4 = pd.read_csv(\"ApplePyt4Model.csv\")\n",
    "\n",
    "WindowsPhonePyt1 = pd.read_csv(\"WindowsPhonePyt1.csv\")\n",
    "WindowsPhonePyt2 = pd.read_csv(\"WindowsPhonePyt2.csv\")\n",
    "WindowsPhonePyt3 = pd.read_csv(\"WindowsPhonePyt3.csv\")\n",
    "WindowsPhonePyt4 = pd.read_csv(\"WindowsPhonePyt4Model.csv\")"
   ]
  },
  {
   "cell_type": "code",
   "execution_count": 21,
   "id": "c224802f",
   "metadata": {},
   "outputs": [
    {
     "name": "stderr",
     "output_type": "stream",
     "text": [
      "Matplotlib is building the font cache; this may take a moment.\n"
     ]
    }
   ],
   "source": [
    "import pandas as pd\n",
    "import numpy as np\n",
    "\n",
    "import matplotlib.pyplot as plt\n",
    "import matplotlib.image as mpimg\n",
    "\n",
    "import seaborn as sns\n",
    "import glob\n",
    "from pathlib import Path\n",
    "import re\n",
    "from skimage import color, exposure\n",
    "from sklearn.metrics import classification_report\n",
    "from sklearn import linear_model\n",
    "from sklearn.model_selection import train_test_split"
   ]
  },
  {
   "cell_type": "code",
   "execution_count": 22,
   "id": "fdf16de2",
   "metadata": {},
   "outputs": [],
   "source": [
    "WindowsPhonePyt4 = pd.read_csv(\"WindowsPhonePyt4Model.csv\")\n",
    "ApplePyt4 = pd.read_csv(\"ApplePyt4Model.csv\")\n",
    "AndroidPyt4 = pd.read_csv(\"AndroidPyt4Model.csv\")"
   ]
  },
  {
   "cell_type": "code",
   "execution_count": 26,
   "id": "f217ddb9",
   "metadata": {},
   "outputs": [],
   "source": [
    "def check_if_na_present(df):\n",
    "    print(df.shape)\n",
    "    tab = []\n",
    "    for it in df.index:\n",
    "        tab.append(df.loc[it].isna().sum().sum())\n",
    "    np.unique(np.array(tab),return_counts = True)\n",
    "    plt.hist(tab, bins=100)"
   ]
  },
  {
   "cell_type": "code",
   "execution_count": null,
   "id": "65c2f8f6",
   "metadata": {},
   "outputs": [],
   "source": []
  },
  {
   "cell_type": "code",
   "execution_count": 27,
   "id": "1a5c7a82",
   "metadata": {},
   "outputs": [
    {
     "name": "stdout",
     "output_type": "stream",
     "text": [
      "(16660, 5)\n"
     ]
    },
    {
     "data": {
      "image/png": "[encoded data removed]",
      "text/plain": [
       "<Figure size 432x288 with 1 Axes>"
      ]
     },
     "metadata": {
      "needs_background": "light"
     },
     "output_type": "display_data"
    }
   ],
   "source": [
    "check_if_na_present(WindowsPhonePyt4)"
   ]
  },
  {
   "cell_type": "code",
   "execution_count": 28,
   "id": "ad1ab17f",
   "metadata": {},
   "outputs": [
    {
     "name": "stdout",
     "output_type": "stream",
     "text": [
      "(315088, 5)\n"
     ]
    },
    {
     "data": {
      "image/png": "[encoded data removed]",
      "text/plain": [
       "<Figure size 432x288 with 1 Axes>"
      ]
     },
     "metadata": {
      "needs_background": "light"
     },
     "output_type": "display_data"
    }
   ],
   "source": [
    "check_if_na_present(ApplePyt4)\n"
   ]
  },
  {
   "cell_type": "code",
   "execution_count": 29,
   "id": "84e9c693",
   "metadata": {},
   "outputs": [
    {
     "name": "stdout",
     "output_type": "stream",
     "text": [
      "(240379, 5)\n"
     ]
    },
    {
     "data": {
      "image/png": "[encoded data removed]",
      "text/plain": [
       "<Figure size 432x288 with 1 Axes>"
      ]
     },
     "metadata": {
      "needs_background": "light"
     },
     "output_type": "display_data"
    }
   ],
   "source": [
    "check_if_na_present(AndroidPyt4)"
   ]
  },
  {
   "cell_type": "code",
   "execution_count": 36,
   "id": "e83b1418",
   "metadata": {},
   "outputs": [
    {
     "data": {
      "text/plain": [
       "dtype('int64')"
      ]
     },
     "execution_count": 36,
     "metadata": {},
     "output_type": "execute_result"
    }
   ],
   "source": [
    "AndroidPyt4[\"UpVotes\"].dtypes"
   ]
  },
  {
   "cell_type": "code",
   "execution_count": 37,
   "id": "6e220c09",
   "metadata": {},
   "outputs": [
    {
     "data": {
      "text/plain": [
       "4626"
      ]
     },
     "execution_count": 37,
     "metadata": {},
     "output_type": "execute_result"
    }
   ],
   "source": [
    "AndroidPyt4[\"UpVotes\"].max()"
   ]
  },
  {
   "cell_type": "code",
   "execution_count": 38,
   "id": "35910bed",
   "metadata": {},
   "outputs": [
    {
     "data": {
      "text/plain": [
       "23559"
      ]
     },
     "execution_count": 38,
     "metadata": {},
     "output_type": "execute_result"
    }
   ],
   "source": [
    "ApplePyt4[\"UpVotes\"].max()"
   ]
  },
  {
   "cell_type": "code",
   "execution_count": 39,
   "id": "694cc044",
   "metadata": {},
   "outputs": [
    {
     "data": {
      "text/plain": [
       "1837"
      ]
     },
     "execution_count": 39,
     "metadata": {},
     "output_type": "execute_result"
    }
   ],
   "source": [
    "WindowsPhonePyt4[\"UpVotes\"].max()"
   ]
  },
  {
   "cell_type": "code",
   "execution_count": 41,
   "id": "67997719",
   "metadata": {},
   "outputs": [
    {
     "name": "stdout",
     "output_type": "stream",
     "text": [
      "86514\n",
      "202751\n",
      "9839\n"
     ]
    }
   ],
   "source": [
    "print(AndroidPyt4[\"Reputation\"].max())\n",
    "print(ApplePyt4[\"Reputation\"].max())\n",
    "print(WindowsPhonePyt4[\"Reputation\"].max())"
   ]
  },
  {
   "cell_type": "code",
   "execution_count": 42,
   "id": "3a11b559",
   "metadata": {},
   "outputs": [],
   "source": [
    "def switch_to_int32(df):\n",
    "    for col in df.columns:\n",
    "        if df[col].dtypes == 'int64':\n",
    "            df[col] = df[col].astype('int32')"
   ]
  },
  {
   "cell_type": "code",
   "execution_count": 46,
   "id": "c61830fd",
   "metadata": {},
   "outputs": [
    {
     "name": "stdout",
     "output_type": "stream",
     "text": [
      "<class 'pandas.core.frame.DataFrame'>\n",
      "RangeIndex: 240379 entries, 0 to 240378\n",
      "Data columns (total 5 columns):\n",
      " #   Column      Non-Null Count   Dtype\n",
      "---  ------      --------------   -----\n",
      " 0   month       240379 non-null  int32\n",
      " 1   year        240379 non-null  int32\n",
      " 2   Id          240379 non-null  int32\n",
      " 3   UpVotes     240379 non-null  int32\n",
      " 4   Reputation  240379 non-null  int32\n",
      "dtypes: int32(5)\n",
      "memory usage: 4.6 MB\n",
      "<class 'pandas.core.frame.DataFrame'>\n",
      "RangeIndex: 315088 entries, 0 to 315087\n",
      "Data columns (total 5 columns):\n",
      " #   Column      Non-Null Count   Dtype\n",
      "---  ------      --------------   -----\n",
      " 0   month       315088 non-null  int32\n",
      " 1   year        315088 non-null  int32\n",
      " 2   Id          315088 non-null  int32\n",
      " 3   UpVotes     315088 non-null  int32\n",
      " 4   Reputation  315088 non-null  int32\n",
      "dtypes: int32(5)\n",
      "memory usage: 6.0 MB\n",
      "<class 'pandas.core.frame.DataFrame'>\n",
      "RangeIndex: 16660 entries, 0 to 16659\n",
      "Data columns (total 5 columns):\n",
      " #   Column      Non-Null Count  Dtype\n",
      "---  ------      --------------  -----\n",
      " 0   month       16660 non-null  int32\n",
      " 1   year        16660 non-null  int32\n",
      " 2   Id          16660 non-null  int32\n",
      " 3   UpVotes     16660 non-null  int32\n",
      " 4   Reputation  16660 non-null  int32\n",
      "dtypes: int32(5)\n",
      "memory usage: 325.5 KB\n"
     ]
    }
   ],
   "source": [
    "switch_to_int32(AndroidPyt4)\n",
    "switch_to_int32(ApplePyt4)\n",
    "switch_to_int32(WindowsPhonePyt4)\n",
    "AndroidPyt4.info()\n",
    "ApplePyt4.info()\n",
    "WindowsPhonePyt4.info()"
   ]
  },
  {
   "cell_type": "code",
   "execution_count": 49,
   "id": "9137ec5f",
   "metadata": {},
   "outputs": [
    {
     "data": {
      "text/plain": [
       "month         0\n",
       "year          0\n",
       "Id            0\n",
       "UpVotes       0\n",
       "Reputation    0\n",
       "dtype: int64"
      ]
     },
     "execution_count": 49,
     "metadata": {},
     "output_type": "execute_result"
    }
   ],
   "source": [
    "AndroidPyt4.isna().sum()"
   ]
  },
  {
   "cell_type": "code",
   "execution_count": 48,
   "id": "9388b65f",
   "metadata": {},
   "outputs": [
    {
     "data": {
      "text/plain": [
       "month         0\n",
       "year          0\n",
       "Id            0\n",
       "UpVotes       0\n",
       "Reputation    0\n",
       "dtype: int64"
      ]
     },
     "execution_count": 48,
     "metadata": {},
     "output_type": "execute_result"
    }
   ],
   "source": [
    "ApplePyt4.isna().sum()"
   ]
  },
  {
   "cell_type": "code",
   "execution_count": 50,
   "id": "d76b375a",
   "metadata": {},
   "outputs": [
    {
     "data": {
      "text/plain": [
       "month         0\n",
       "year          0\n",
       "Id            0\n",
       "UpVotes       0\n",
       "Reputation    0\n",
       "dtype: int64"
      ]
     },
     "execution_count": 50,
     "metadata": {},
     "output_type": "execute_result"
    }
   ],
   "source": [
    "WindowsPhonePyt4.isna().sum()"
   ]
  },
  {
   "cell_type": "code",
   "execution_count": 51,
   "id": "a707761a",
   "metadata": {},
   "outputs": [],
   "source": [
    "AndroidPyt4.drop_duplicates(inplace = True)\n",
    "ApplePyt4.drop_duplicates(inplace = True)\n",
    "WindowsPhonePyt4.drop_duplicates(inplace = True)"
   ]
  },
  {
   "cell_type": "code",
   "execution_count": 56,
   "id": "a65fec02",
   "metadata": {},
   "outputs": [
    {
     "name": "stdout",
     "output_type": "stream",
     "text": [
      "Collecting scikit-plot\n",
      "  Downloading scikit_plot-0.3.7-py3-none-any.whl (33 kB)\n",
      "Requirement already satisfied: scikit-learn>=0.18 in d:\\anaconda\\lib\\site-packages (from scikit-plot) (0.24.2)\n",
      "Requirement already satisfied: matplotlib>=1.4.0 in d:\\anaconda\\lib\\site-packages (from scikit-plot) (3.3.4)\n",
      "Requirement already satisfied: scipy>=0.9 in d:\\anaconda\\lib\\site-packages (from scikit-plot) (1.6.2)\n",
      "Requirement already satisfied: joblib>=0.10 in d:\\anaconda\\lib\\site-packages (from scikit-plot) (1.0.1)\n",
      "Requirement already satisfied: numpy>=1.15 in d:\\anaconda\\lib\\site-packages (from matplotlib>=1.4.0->scikit-plot) (1.20.2)\n",
      "Requirement already satisfied: python-dateutil>=2.1 in d:\\anaconda\\lib\\site-packages (from matplotlib>=1.4.0->scikit-plot) (2.8.1)\n",
      "Requirement already satisfied: pyparsing!=2.0.4,!=2.1.2,!=2.1.6,>=2.0.3 in d:\\anaconda\\lib\\site-packages (from matplotlib>=1.4.0->scikit-plot) (2.4.7)\n",
      "Requirement already satisfied: pillow>=6.2.0 in d:\\anaconda\\lib\\site-packages (from matplotlib>=1.4.0->scikit-plot) (8.2.0)\n",
      "Requirement already satisfied: kiwisolver>=1.0.1 in d:\\anaconda\\lib\\site-packages (from matplotlib>=1.4.0->scikit-plot) (1.3.1)\n",
      "Requirement already satisfied: cycler>=0.10 in d:\\anaconda\\lib\\site-packages (from matplotlib>=1.4.0->scikit-plot) (0.10.0)\n",
      "Requirement already satisfied: six in d:\\anaconda\\lib\\site-packages (from cycler>=0.10->matplotlib>=1.4.0->scikit-plot) (1.15.0)\n",
      "Requirement already satisfied: threadpoolctl>=2.0.0 in d:\\anaconda\\lib\\site-packages (from scikit-learn>=0.18->scikit-plot) (2.1.0)\n",
      "Installing collected packages: scikit-plot\n",
      "Successfully installed scikit-plot-0.3.7\n",
      "Collecting catboost\n",
      "  Downloading catboost-0.25.1-cp38-none-win_amd64.whl (66.9 MB)\n",
      "Requirement already satisfied: scipy in d:\\anaconda\\lib\\site-packages (from catboost) (1.6.2)\n",
      "Requirement already satisfied: numpy>=1.16.0 in d:\\anaconda\\lib\\site-packages (from catboost) (1.20.2)\n",
      "Collecting graphviz\n",
      "  Downloading graphviz-0.16-py2.py3-none-any.whl (19 kB)\n",
      "Requirement already satisfied: six in d:\\anaconda\\lib\\site-packages (from catboost) (1.15.0)\n",
      "Collecting plotly\n",
      "  Downloading plotly-4.14.3-py2.py3-none-any.whl (13.2 MB)\n",
      "Requirement already satisfied: pandas>=0.24.0 in d:\\anaconda\\lib\\site-packages (from catboost) (1.2.4)\n",
      "Requirement already satisfied: matplotlib in d:\\anaconda\\lib\\site-packages (from catboost) (3.3.4)\n",
      "Requirement already satisfied: python-dateutil>=2.7.3 in d:\\anaconda\\lib\\site-packages (from pandas>=0.24.0->catboost) (2.8.1)\n",
      "Requirement already satisfied: pytz>=2017.3 in d:\\anaconda\\lib\\site-packages (from pandas>=0.24.0->catboost) (2021.1)\n",
      "Requirement already satisfied: pillow>=6.2.0 in d:\\anaconda\\lib\\site-packages (from matplotlib->catboost) (8.2.0)\n",
      "Requirement already satisfied: cycler>=0.10 in d:\\anaconda\\lib\\site-packages (from matplotlib->catboost) (0.10.0)\n",
      "Requirement already satisfied: kiwisolver>=1.0.1 in d:\\anaconda\\lib\\site-packages (from matplotlib->catboost) (1.3.1)\n",
      "Requirement already satisfied: pyparsing!=2.0.4,!=2.1.2,!=2.1.6,>=2.0.3 in d:\\anaconda\\lib\\site-packages (from matplotlib->catboost) (2.4.7)\n",
      "Collecting retrying>=1.3.3\n",
      "  Downloading retrying-1.3.3.tar.gz (10 kB)\n",
      "Building wheels for collected packages: retrying\n",
      "  Building wheel for retrying (setup.py): started\n",
      "  Building wheel for retrying (setup.py): finished with status 'done'\n",
      "  Created wheel for retrying: filename=retrying-1.3.3-py3-none-any.whl size=11429 sha256=1d816449a3225950d784bf6e933845ebcf0ecb003fd9ae9b7a10f0441ea8404a\n",
      "  Stored in directory: c:\\users\\alekm\\appdata\\local\\pip\\cache\\wheels\\c4\\a7\\48\\0a434133f6d56e878ca511c0e6c38326907c0792f67b476e56\n",
      "Successfully built retrying\n",
      "Installing collected packages: retrying, plotly, graphviz, catboost\n",
      "Successfully installed catboost-0.25.1 graphviz-0.16 plotly-4.14.3 retrying-1.3.3\n",
      "Collecting eli5\n",
      "  Downloading eli5-0.11.0-py2.py3-none-any.whl (106 kB)\n",
      "Requirement already satisfied: jinja2 in d:\\anaconda\\lib\\site-packages (from eli5) (3.0.0)\n",
      "Requirement already satisfied: scikit-learn>=0.20 in d:\\anaconda\\lib\\site-packages (from eli5) (0.24.2)\n",
      "Requirement already satisfied: attrs>16.0.0 in d:\\anaconda\\lib\\site-packages (from eli5) (21.2.0)\n",
      "Requirement already satisfied: graphviz in d:\\anaconda\\lib\\site-packages (from eli5) (0.16)\n",
      "Requirement already satisfied: numpy>=1.9.0 in d:\\anaconda\\lib\\site-packages (from eli5) (1.20.2)\n",
      "Requirement already satisfied: six in d:\\anaconda\\lib\\site-packages (from eli5) (1.15.0)\n",
      "Collecting tabulate>=0.7.7\n",
      "  Downloading tabulate-0.8.9-py3-none-any.whl (25 kB)\n",
      "Requirement already satisfied: scipy in d:\\anaconda\\lib\\site-packages (from eli5) (1.6.2)\n",
      "Requirement already satisfied: joblib>=0.11 in d:\\anaconda\\lib\\site-packages (from scikit-learn>=0.20->eli5) (1.0.1)\n",
      "Requirement already satisfied: threadpoolctl>=2.0.0 in d:\\anaconda\\lib\\site-packages (from scikit-learn>=0.20->eli5) (2.1.0)\n",
      "Requirement already satisfied: MarkupSafe>=2.0.0rc2 in d:\\anaconda\\lib\\site-packages (from jinja2->eli5) (2.0.1)\n",
      "Installing collected packages: tabulate, eli5\n",
      "Successfully installed eli5-0.11.0 tabulate-0.8.9\n",
      "Collecting xgboost\n",
      "  Downloading xgboost-1.4.2-py3-none-win_amd64.whl (97.8 MB)\n",
      "Requirement already satisfied: numpy in d:\\anaconda\\lib\\site-packages (from xgboost) (1.20.2)\n",
      "Requirement already satisfied: scipy in d:\\anaconda\\lib\\site-packages (from xgboost) (1.6.2)\n",
      "Installing collected packages: xgboost\n",
      "Successfully installed xgboost-1.4.2\n"
     ]
    }
   ],
   "source": [
    "!pip install scikit-plot\n",
    "!pip install catboost\n",
    "!pip install eli5\n",
    "!pip install xgboost"
   ]
  },
  {
   "cell_type": "code",
   "execution_count": 61,
   "id": "c3b08da9",
   "metadata": {},
   "outputs": [
    {
     "name": "stdout",
     "output_type": "stream",
     "text": [
      "Collecting lightgbm\n",
      "  Downloading lightgbm-3.2.1-py3-none-win_amd64.whl (1.0 MB)\n",
      "Requirement already satisfied: numpy in d:\\anaconda\\lib\\site-packages (from lightgbm) (1.20.2)\n",
      "Requirement already satisfied: wheel in d:\\anaconda\\lib\\site-packages (from lightgbm) (0.36.2)\n",
      "Requirement already satisfied: scipy in d:\\anaconda\\lib\\site-packages (from lightgbm) (1.6.2)\n",
      "Requirement already satisfied: scikit-learn!=0.22.0 in d:\\anaconda\\lib\\site-packages (from lightgbm) (0.24.2)\n",
      "Requirement already satisfied: joblib>=0.11 in d:\\anaconda\\lib\\site-packages (from scikit-learn!=0.22.0->lightgbm) (1.0.1)\n",
      "Requirement already satisfied: threadpoolctl>=2.0.0 in d:\\anaconda\\lib\\site-packages (from scikit-learn!=0.22.0->lightgbm) (2.1.0)\n",
      "Installing collected packages: lightgbm\n",
      "Successfully installed lightgbm-3.2.1\n"
     ]
    }
   ],
   "source": [
    "!pip install lightgbm"
   ]
  },
  {
   "cell_type": "code",
   "execution_count": 63,
   "id": "8b0791a1",
   "metadata": {},
   "outputs": [
    {
     "name": "stdout",
     "output_type": "stream",
     "text": [
      "Collecting hyperopt\n",
      "  Downloading hyperopt-0.2.5-py2.py3-none-any.whl (965 kB)\n",
      "Requirement already satisfied: future in d:\\anaconda\\lib\\site-packages (from hyperopt) (0.18.2)\n",
      "Requirement already satisfied: scipy in d:\\anaconda\\lib\\site-packages (from hyperopt) (1.6.2)\n",
      "Requirement already satisfied: numpy in d:\\anaconda\\lib\\site-packages (from hyperopt) (1.20.2)\n",
      "Requirement already satisfied: six in d:\\anaconda\\lib\\site-packages (from hyperopt) (1.15.0)\n",
      "Requirement already satisfied: cloudpickle in d:\\anaconda\\lib\\site-packages (from hyperopt) (1.6.0)\n",
      "Requirement already satisfied: tqdm in d:\\anaconda\\lib\\site-packages (from hyperopt) (4.59.0)\n",
      "Requirement already satisfied: networkx>=2.2 in d:\\anaconda\\lib\\site-packages (from hyperopt) (2.5.1)\n",
      "Requirement already satisfied: decorator<5,>=4.3 in d:\\anaconda\\lib\\site-packages (from networkx>=2.2->hyperopt) (4.4.2)\n",
      "Installing collected packages: hyperopt\n",
      "Successfully installed hyperopt-0.2.5\n"
     ]
    }
   ],
   "source": [
    "!pip install hyperopt"
   ]
  },
  {
   "cell_type": "code",
   "execution_count": 64,
   "id": "2275e851",
   "metadata": {},
   "outputs": [],
   "source": [
    "from sklearn.linear_model import LogisticRegression\n",
    "from sklearn.tree import DecisionTreeRegressor\n",
    "from sklearn.ensemble import RandomForestRegressor, ExtraTreesRegressor\n",
    "\n",
    "import scikitplot as skplt\n",
    "from scikitplot.estimators import plot_learning_curve\n",
    "from sklearn.metrics import make_scorer, f1_score, precision_score, recall_score, accuracy_score\n",
    "from sklearn.metrics import  roc_curve, roc_auc_score, confusion_matrix\n",
    "from sklearn.model_selection import cross_val_score, train_test_split\n",
    "from sklearn.model_selection import train_test_split\n",
    "from sklearn.metrics import plot_confusion_matrix\n",
    "from sklearn.model_selection import StratifiedShuffleSplit\n",
    "\n",
    "import xgboost as xgb\n",
    "import lightgbm as lgb\n",
    "import catboost as ctb\n",
    "\n",
    "import matplotlib.pyplot as plt\n",
    "import matplotlib.image as mpimg\n",
    "\n",
    "import seaborn as sns\n",
    "import glob\n",
    "\n",
    "from skimage import color, exposure\n",
    "\n",
    "\n",
    "from time import time\n",
    "import scipy.stats as stats\n",
    "from sklearn.utils.fixes import loguniform\n",
    "from scipy.stats import uniform\n",
    "\n",
    "from functools import partial\n",
    "from hyperopt import fmin, tpe, hp, STATUS_OK, Trials\n",
    "\n",
    "import re\n",
    "import eli5\n",
    "from eli5.sklearn import PermutationImportance"
   ]
  },
  {
   "cell_type": "code",
   "execution_count": 66,
   "id": "d9f4ba8e",
   "metadata": {},
   "outputs": [],
   "source": [
    "from sklearn.neighbors import KNeighborsRegressor\n",
    "from sklearn.ensemble import GradientBoostingRegressor\n",
    "from sklearn.svm import LinearSVC\n"
   ]
  },
  {
   "cell_type": "code",
   "execution_count": 67,
   "id": "456a3a75",
   "metadata": {},
   "outputs": [],
   "source": [
    "from sklearn.ensemble import AdaBoostRegressor"
   ]
  },
  {
   "cell_type": "code",
   "execution_count": 65,
   "id": "374b9e2d",
   "metadata": {},
   "outputs": [],
   "source": [
    "metrics = {\n",
    "    'accuracy': accuracy_score,\n",
    "    'recall': recall_score,\n",
    "    'precision': precision_score,\n",
    "    'f1_score': f1_score,\n",
    "    'roc_auc': roc_auc_score,\n",
    "}\n",
    "\n",
    "models = {\n",
    "    'LGR': LogisticRegression(solver = 'lbfgs', random_state=42, verbose=0),\n",
    "    'DTR': DecisionTreeRegressor(random_state=42),\n",
    "    'RFR': RandomForestRegressor(random_state=42),\n",
    "    'ETR': ExtraTreesRegressor(random_state=42),\n",
    "    'XGB': xgb.XGBRegressor(random_state=42),\n",
    "    'LGBM': lgb.LGBMRegressor(random_state=42)\n",
    "}\n"
   ]
  },
  {
   "cell_type": "code",
   "execution_count": 68,
   "id": "25a2b3c1",
   "metadata": {},
   "outputs": [],
   "source": [
    "def train_model(model,X,y):\n",
    "    model.fit(X,y)\n",
    "    return model"
   ]
  },
  {
   "cell_type": "code",
   "execution_count": 69,
   "id": "d9af680d",
   "metadata": {},
   "outputs": [],
   "source": [
    "def predict_model(model,X):\n",
    "    y_pred = model.predict(X)\n",
    "    return y_pred"
   ]
  },
  {
   "cell_type": "code",
   "execution_count": 70,
   "id": "db8ed5db",
   "metadata": {},
   "outputs": [],
   "source": [
    "def score_mdoel(y_test,y_pred,scoring):\n",
    "    score = scoring(y_test,y_pred,average = 'micro')\n",
    "    return score"
   ]
  },
  {
   "cell_type": "code",
   "execution_count": 71,
   "id": "1b65ab6b",
   "metadata": {},
   "outputs": [],
   "source": [
    "def train_and_predict(model,X,y,scoring):\n",
    "    scores = cross_val_score(model,X,y,cv = 3, scoring = scoring)\n",
    "    return np.mean(scores),np.std(scores)"
   ]
  },
  {
   "cell_type": "code",
   "execution_count": 72,
   "id": "9a3a00f1",
   "metadata": {},
   "outputs": [],
   "source": [
    "def split_data(df):\n",
    "    features = [feature for feature in df.columns if feature != 'Reputation']\n",
    "    X = df[features]\n",
    "    y = df['Reputation']\n",
    "    return X,y\n"
   ]
  },
  {
   "cell_type": "code",
   "execution_count": 73,
   "id": "22f513e9",
   "metadata": {},
   "outputs": [],
   "source": [
    "def run_model(model, df, scoring):\n",
    "    df = df.sample(frac = 0.1)\n",
    "    X,y = split_data(df)\n",
    "    print(y.facttorize())\n",
    "    y = y.factorize()[0]\n",
    "    X_train,X_test,y_train,y_test = train_test_split(X,y,test_size = 0.2,random_state = 42,stratify=y)\n",
    "    model = train_model(model,X_train,y_train)\n",
    "    y_pred = predict_model(model,X_test)\n",
    "    accuracy = accuracy_score(y_test, y_pred,average='micro')\n",
    "    recall = recall_score(y_test,y_pred)\n",
    "    precision = precision_score(y_test,y_pred,average='micro')\n",
    "    f1 = f1_score(y_test,y_pred,average='micro')\n",
    "    print(y_pred,'\\n')\n",
    "    print('accuracy: ', accuracy)\n",
    "    print('recall: ',recall)\n",
    "    print('precision: ', precision)\n",
    "    print('f1_micro: ', f1)\n",
    "    plot_confusion_matrix(model,X_test,y_test,cmap='Blues')\n",
    "    plt.show()\n",
    "    plot_learning_curve(model,X_test,y_test,scoring = 'f1_micro')\n",
    "    plt.show()"
   ]
  },
  {
   "cell_type": "code",
   "execution_count": null,
   "id": "a2d296f6",
   "metadata": {},
   "outputs": [],
   "source": [
    "for model in models.items():\n",
    "    print(model[0])\n",
    "    run_model(model[1],WindowsPhonePyt4,metrics['f1_score'])\n",
    "    imp = PermutationImportance(model, random_state = 42).fit(X_train, y_train)\n",
    "    eli5.show_weights(imp, feature_names = X_train.columns.values, top = 50)"
   ]
  }
 ],
 "metadata": {
  "kernelspec": {
   "display_name": "Python 3",
   "language": "python",
   "name": "python3"
  },
  "language_info": {
   "codemirror_mode": {
    "name": "ipython",
    "version": 3
   },
   "file_extension": ".py",
   "mimetype": "text/x-python",
   "name": "python",
   "nbconvert_exporter": "python",
   "pygments_lexer": "ipython3",
   "version": "3.8.10"
  }
 },
 "nbformat": 4,
 "nbformat_minor": 5
}
