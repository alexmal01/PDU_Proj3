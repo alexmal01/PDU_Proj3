{
 "cells": [
  {
   "cell_type": "code",
   "execution_count": 1,
   "id": "b6a3f927",
   "metadata": {},
   "outputs": [
    {
     "name": "stderr",
     "output_type": "stream",
     "text": [
      "\n",
      "Dołączanie pakietu: 'dplyr'\n",
      "\n",
      "\n",
      "Następujące obiekty zostały zakryte z 'package:stats':\n",
      "\n",
      "    filter, lag\n",
      "\n",
      "\n",
      "Następujące obiekty zostały zakryte z 'package:base':\n",
      "\n",
      "    intersect, setdiff, setequal, union\n",
      "\n",
      "\n"
     ]
    }
   ],
   "source": [
    "library(\"XML\")\n",
    "library(\"dplyr\")"
   ]
  },
  {
   "cell_type": "code",
   "execution_count": 6,
   "id": "b2357f28",
   "metadata": {},
   "outputs": [],
   "source": [
    "\n",
    "\n",
    "\n",
    "WindowsPhoneBadges <- xmlParse(\"WindowsPhoneBadges.xml\")\n",
    "WindowsPhoneBadges <- bind_rows(sapply(xmlChildren(xmlRoot(WindowsPhoneBadges)), xmlAttrs, simplify = FALSE))\n",
    "\n",
    "WindowsPhoneComments <- xmlParse(\"WindowsPhoneComments.xml\")\n",
    "WindowsPhoneComments <- bind_rows(sapply(xmlChildren(xmlRoot(WindowsPhoneComments)), xmlAttrs, simplify = FALSE))\n",
    "\n",
    "WindowsPhonePostHistory <- xmlParse(\"WindowsPhonePostHistory.xml\")\n",
    "WindowsPhonePostHistory <- bind_rows(sapply(xmlChildren(xmlRoot(WindowsPhonePostHistory)), xmlAttrs, simplify = FALSE))\n",
    "\n",
    "WindowsPhonePostLinks <- xmlParse(\"WindowsPhonePostLinks.xml\")\n",
    "WindowsPhonePostLinks <- bind_rows(sapply(xmlChildren(xmlRoot(WindowsPhonePostLinks)), xmlAttrs, simplify = FALSE))\n",
    "\n",
    "WindowsPhonePosts <- xmlParse(\"WindowsPhonePosts.xml\")\n",
    "WindowsPhonePosts <- bind_rows(sapply(xmlChildren(xmlRoot(WindowsPhonePosts)), xmlAttrs, simplify = FALSE))\n",
    "\n",
    "WindowsPhoneTags <- xmlParse(\"WindowsPhoneTags.xml\")\n",
    "WindowsPhoneTags <- bind_rows(sapply(xmlChildren(xmlRoot(WindowsPhoneTags)), xmlAttrs, simplify = FALSE))\n",
    "\n",
    "WindowsPhoneUsers <- xmlParse(\"WindowsPhoneUsers.xml\")\n",
    "WindowsPhoneUsers <- bind_rows(sapply(xmlChildren(xmlRoot(WindowsPhoneUsers)), xmlAttrs, simplify = FALSE))\n",
    "\n",
    "WindowsPhoneVotes <- xmlParse(\"WindowsPhoneVotes.xml\")\n",
    "WindowsPhoneVotes <- bind_rows(sapply(xmlChildren(xmlRoot(WindowsPhoneVotes)), xmlAttrs, simplify = FALSE))\n"
   ]
  },
  {
   "cell_type": "code",
   "execution_count": 5,
   "id": "125fcbbd",
   "metadata": {},
   "outputs": [],
   "source": [
    "AndroidBadges <- xmlParse(\"AndroidBadges.xml\")\n",
    "AndroidBadges <- bind_rows(sapply(xmlChildren(xmlRoot(AndroidBadges)), xmlAttrs, simplify = FALSE))\n",
    "\n",
    "AndroidComments <- xmlParse(\"AndroidComments.xml\")\n",
    "AndroidComments <- bind_rows(sapply(xmlChildren(xmlRoot(AndroidComments)), xmlAttrs, simplify = FALSE))\n",
    "\n",
    "AndroidPostHistory <- xmlParse(\"AndroidPostHistory.xml\")\n",
    "AndroidPostHistory <- bind_rows(sapply(xmlChildren(xmlRoot(AndroidPostHistory)), xmlAttrs, simplify = FALSE))\n",
    "\n",
    "AndroidPostLinks <- xmlParse(\"AndroidPostLinks.xml\")\n",
    "AndroidPostLinks <- bind_rows(sapply(xmlChildren(xmlRoot(AndroidPostLinks)), xmlAttrs, simplify = FALSE))\n",
    "\n",
    "AndroidPosts <- xmlParse(\"AndroidPosts.xml\")\n",
    "AndroidPosts <- bind_rows(sapply(xmlChildren(xmlRoot(AndroidPosts)), xmlAttrs, simplify = FALSE))\n",
    "\n",
    "AndroidTags <- xmlParse(\"AndroidTags.xml\")\n",
    "AndroidTags <- bind_rows(sapply(xmlChildren(xmlRoot(AndroidTags)), xmlAttrs, simplify = FALSE))\n",
    "\n",
    "AndroidUsers <- xmlParse(\"AndroidUsers.xml\")\n",
    "AndroidUsers <- bind_rows(sapply(xmlChildren(xmlRoot(AndroidUsers)), xmlAttrs, simplify = FALSE))\n",
    "\n",
    "AndroidVotes <- xmlParse(\"AndroidVotes.xml\")\n",
    "AndroidVotes <- bind_rows(sapply(xmlChildren(xmlRoot(AndroidVotes)), xmlAttrs, simplify = FALSE))\n",
    "\n"
   ]
  },
  {
   "cell_type": "code",
   "execution_count": 4,
   "id": "6019d06c",
   "metadata": {},
   "outputs": [],
   "source": [
    "\n",
    "AppleBadges <- xmlParse(\"AppleBadges.xml\")\n",
    "AppleBadges <- bind_rows(sapply(xmlChildren(xmlRoot(AppleBadges)), xmlAttrs, simplify = FALSE))\n",
    "\n",
    "AppleComments <- xmlParse(\"AppleComments.xml\")\n",
    "AppleComments <- bind_rows(sapply(xmlChildren(xmlRoot(AppleComments)), xmlAttrs, simplify = FALSE))\n",
    "\n",
    "ApplePostHistory <- xmlParse(\"ApplePostHistory.xml\")\n",
    "ApplePostHistory <- bind_rows(sapply(xmlChildren(xmlRoot(ApplePostHistory)), xmlAttrs, simplify = FALSE))\n",
    "\n",
    "ApplePostLinks <- xmlParse(\"ApplePostLinks.xml\")\n",
    "ApplePostLinks <- bind_rows(sapply(xmlChildren(xmlRoot(ApplePostLinks)), xmlAttrs, simplify = FALSE))\n",
    "\n",
    "ApplePosts <- xmlParse(\"ApplePosts.xml\")\n",
    "ApplePosts <- bind_rows(sapply(xmlChildren(xmlRoot(ApplePosts)), xmlAttrs, simplify = FALSE))\n",
    "\n",
    "AppleTags <- xmlParse(\"AppleTags.xml\")\n",
    "AppleTags <- bind_rows(sapply(xmlChildren(xmlRoot(AppleTags)), xmlAttrs, simplify = FALSE))\n",
    "\n",
    "AppleUsers <- xmlParse(\"AppleUsers.xml\")\n",
    "AppleUsers <- bind_rows(sapply(xmlChildren(xmlRoot(AppleUsers)), xmlAttrs, simplify = FALSE))\n",
    "\n",
    "AppleVotes <- xmlParse(\"AppleVotes.xml\")\n",
    "AppleVotes <- bind_rows(sapply(xmlChildren(xmlRoot(AppleVotes)), xmlAttrs, simplify = FALSE))"
   ]
  },
  {
   "cell_type": "code",
   "execution_count": 8,
   "id": "a8a0e429",
   "metadata": {
    "tags": []
   },
   "outputs": [],
   "source": [
    "\n",
    "\n",
    "\n",
    "\n",
    "\n",
    "\n",
    "\n",
    "pytanie1<-function(Posts){\n",
    "  wyn <- Posts %>% select(PostTypeId, Id, CreationDate) %>% mutate(date = substr(CreationDate, 1, 10)) %>% mutate(date2 = as.Date(date, \"%Y-%m-%d\")) %>% \n",
    "    mutate(month = format(date2, \"%m\"))%>% mutate(year = format(date2, \"%Y\"))%>% select(PostTypeId, Id, month, year) %>% filter(PostTypeId==1) %>%\n",
    "    group_by(month, year) %>% tally() %>% as.data.frame() %>% arrange(year, month)\n",
    "  head(wyn, 1000)\n",
    "}\n",
    "\n",
    "\n",
    "\n",
    "\n",
    "\n",
    "\n",
    "\n",
    "pytanie2<-function(Users){\n",
    "  wyn <- Users %>% select(Id, CreationDate) %>% mutate(date = substr(CreationDate, 1, 10)) %>% mutate(date2 = as.Date(date, \"%Y-%m-%d\")) %>% \n",
    "    mutate(month = format(date2, \"%m\"))%>% mutate(year = format(date2, \"%Y\"))%>% select(Id, month, year) %>%\n",
    "    group_by(month, year) %>% tally() %>% as.data.frame() %>% arrange(year, month)\n",
    "  head(wyn, 1000)\n",
    "}\n",
    "\n",
    "\n",
    "\n",
    "\n",
    "\n",
    "\n",
    "\n",
    "pytanie3<-function(Users, Posts, Comments){\n",
    "  Users<- rename(Users, UserId = Id, AccCreatDate = CreationDate)\n",
    "  Posts<- rename(Posts, PostId = Id, PostCreatDate = CreationDate)\n",
    "  Comments<- rename(Comments, CommentId = Id, CommentCreatDate = CreationDate)\n",
    "  \n",
    "  \n",
    "  \n",
    "  wyn1 <- Users %>% left_join(Posts, by = c(\"UserId\" = \"OwnerUserId\")) %>% select(UserId, PostCreatDate, PostId) %>% mutate(date = substr(PostCreatDate, 1, 10)) %>% mutate(date2 = as.Date(date, \"%Y-%m-%d\")) %>% mutate(month = format(date2, \"%m\"))%>% mutate(year = format(date2, \"%Y\")) %>%  mutate(PostId2 = as.integer(PostId)) %>% select( month, year, PostId2)  %>% as.data.frame() %>% arrange(PostId2, year, month) %>% group_by(month, year)%>% tally()%>% mutate(monthYear = paste(month, year, sep = \" \")) %>% as.data.frame() \n",
    "\n",
    "  wyn2 <- Users %>% left_join(Comments, by = c(\"UserId\" = \"UserId\")) %>% select(UserId, CommentCreatDate, CommentId) %>% mutate(date = substr(CommentCreatDate, 1, 10)) %>% mutate(date2 = as.Date(date, \"%Y-%m-%d\")) %>% mutate(month = format(date2, \"%m\"))%>% mutate(year = format(date2, \"%Y\")) %>%  mutate(CommentId2 = as.integer(CommentId)) %>% select( month, year, CommentId2)  %>% as.data.frame() %>% arrange(CommentId2, year, month)%>% group_by(month, year)%>% tally()%>% mutate(monthYear = paste(month, year, sep = \" \"))%>% as.data.frame()\n",
    "  \n",
    "  \n",
    "  wyn3<- wyn1 %>% full_join(wyn2, by = c(\"monthYear\" = \"monthYear\"))\n",
    "  \n",
    "  temp <- is.na(wyn3$n.y)\n",
    "  wyn3$n.y[temp] <- 0\n",
    "  \n",
    "  temp <- is.na(wyn3$n.x)\n",
    "  wyn3$n.x[temp] <- 0\n",
    "  wyn3 <- wyn3 %>% mutate (aktywnosc = (wyn3$n.x + wyn3$n.y)) %>% select (monthYear, aktywnosc)\n",
    "  \n",
    "\n",
    "  \n",
    "  \n",
    "  head(wyn3, length(wyn3$aktywnosc)-1)\n",
    "\n",
    "}\n",
    "\n",
    "\n",
    "pytanie4 <-function(Users){\n",
    "  \n",
    "  temp <- is.na(Users$UpVotes)\n",
    "  Users<-Users[!temp, ]\n",
    "  wyn1 <- Users %>% select(Id, CreationDate, UpVotes) %>% mutate(date = substr(CreationDate, 1, 10)) %>% mutate(date2 = as.Date(date, \"%Y-%m-%d\")) %>% mutate(month = format(date2, \"%m\"))%>% mutate(year = format(date2, \"%Y\")) %>% select( month, year, Id, UpVotes)  %>% group_by(month, year, UpVotes)%>% tally()%>% as.data.frame() \n",
    "  wyn1\n",
    "  # print (wyn1)\n",
    " \n",
    "  \n",
    "  \n",
    "}\n",
    "\n",
    "\n",
    "\n",
    "\n",
    "\n",
    "\n",
    "\n",
    "# write.csv(pytanie1(ApplePosts), file = \"ApplePyt1.csv\", row.names = FALSE)\n",
    "write.csv(pytanie1(WindowsPhonePosts), file = \"WindowsPhonePyt1.csv\", row.names = FALSE)\n",
    "write.csv(pytanie1(AndroidPosts), file = \"AndroidPyt1.csv\", row.names = FALSE)\n",
    "\n",
    "\n",
    "# write.csv(pytanie2(ApplePosts), file = \"ApplePyt2.csv\", row.names = FALSE)\n",
    "write.csv(pytanie2(WindowsPhonePosts), file = \"WindowsPhonePyt2.csv\", row.names = FALSE)\n",
    "write.csv(pytanie2(AndroidPosts), file = \"AndroidPyt2.csv\", row.names = FALSE)\n",
    "\n",
    "\n",
    "write.csv(pytanie3(WindowsPhoneUsers, WindowsPhonePosts, WindowsPhoneComments), file = \"WindowsPhonePyt3.csv\", row.names = FALSE)\n",
    "# write.csv(pytanie3(AppleUsers, ApplePosts, AppleComments), file = \"ApplePyt3.csv\", row.names = FALSE)\n",
    "write.csv(pytanie3(AndroidUsers, AndroidPosts, AndroidComments), file = \"AndroidPyt3.csv\", row.names = FALSE)\n",
    "\n",
    "\n",
    "write.csv(pytanie4(WindowsPhoneUsers), file = \"WindowsPhonePyt4.csv\", row.names = FALSE)\n",
    "# write.csv(pytanie4(AppleUsers), file = \"ApplePyt4.csv\", row.names = FALSE)\n",
    "write.csv(pytanie4(AndroidUsers), file = \"AndroidPyt4.csv\", row.names = FALSE)"
   ]
  },
  {
   "cell_type": "code",
   "execution_count": 9,
   "id": "f34527bf",
   "metadata": {},
   "outputs": [],
   "source": [
    "pytanie4_model <-function(Users){\n",
    "  \n",
    "  temp <- is.na(Users$UpVotes)\n",
    "  Users<-Users[!temp, ]\n",
    "  # wyn1 <- Users %>% select(Id, CreationDate, UpVotes) %>% mutate(date = substr(CreationDate, 1, 10)) %>% mutate(date2 = as.Date(date, \"%Y-%m-%d\")) %>% mutate(month = format(date2, \"%m\"))%>% mutate(year = format(date2, \"%Y\")) %>% select( month, year, Id, UpVotes)  %>% group_by(month, year, UpVotes)%>% tally()%>% as.data.frame() \n",
    "  wyn1 <- Users %>% select(Id, CreationDate, UpVotes, Reputation) %>% mutate(date = substr(CreationDate, 1, 10)) %>% mutate(date2 = as.Date(date, \"%Y-%m-%d\")) %>% mutate(month = format(date2, \"%m\"))%>% mutate(year = format(date2, \"%Y\")) %>% select( month, year, Id, UpVotes, Reputation)\n",
    "  wyn1\n",
    "}\n"
   ]
  },
  {
   "cell_type": "code",
   "execution_count": 6,
   "id": "4e457537",
   "metadata": {},
   "outputs": [],
   "source": [
    "AndroidUsers <- xmlParse(\"AndroidUsers.xml\")\n",
    "AndroidUsers <- bind_rows(sapply(xmlChildren(xmlRoot(AndroidUsers)), xmlAttrs, simplify = FALSE))\n",
    "AppleUsers <- xmlParse(\"AppleUsers.xml\")\n",
    "AppleUsers <- bind_rows(sapply(xmlChildren(xmlRoot(AppleUsers)), xmlAttrs, simplify = FALSE))\n",
    "WindowsPhoneUsers <- xmlParse(\"WindowsPhoneUsers.xml\")\n",
    "WindowsPhoneUsers <- bind_rows(sapply(xmlChildren(xmlRoot(WindowsPhoneUsers)), xmlAttrs, simplify = FALSE))"
   ]
  },
  {
   "cell_type": "code",
   "execution_count": 10,
   "id": "87ee870c",
   "metadata": {},
   "outputs": [],
   "source": [
    "AndroidPyt4Model <- pytanie4_model(AndroidUsers)\n",
    "ApplePyt4Model <- pytanie4_model(AppleUsers)\n",
    "WindowsPhonePyt4Model <- pytanie4_model(WindowsPhoneUsers)\n",
    "# print(WindowsPhonePyt4Model)\n",
    "write.csv(AndroidPyt4Model, file = \"AndroidPyt4Model.csv\", row.names = FALSE)\n",
    "write.csv(ApplePyt4Model, file = \"ApplePyt4Model.csv\", row.names = FALSE)\n",
    "write.csv(WindowsPhonePyt4Model, file = \"WindowsPhonePyt4Model.csv\", row.names = FALSE)"
   ]
  },
  {
   "cell_type": "code",
   "execution_count": 5,
   "id": "2c632fed",
   "metadata": {},
   "outputs": [],
   "source": [
    "pytanie3<-function(Users, Posts, Comments){\n",
    "  Users<- rename(Users, UserId = Id, AccCreatDate = CreationDate)\n",
    "  Posts<- rename(Posts, PostId = Id, PostCreatDate = CreationDate)\n",
    "  Comments<- rename(Comments, CommentId = Id, CommentCreatDate = CreationDate)\n",
    "  \n",
    "  \n",
    "  \n",
    "  wyn1 <- Users %>% left_join(Posts, by = c(\"UserId\" = \"OwnerUserId\")) %>% select(UserId, PostCreatDate, PostId) %>% mutate(date = substr(PostCreatDate, 1, 10)) %>% mutate(date2 = as.Date(date, \"%Y-%m-%d\")) %>% mutate(month = format(date2, \"%m\"))%>% mutate(year = format(date2, \"%Y\")) %>%  mutate(PostId2 = as.integer(PostId)) %>% select( month, year, PostId2)  %>% as.data.frame() %>% arrange(PostId2, year, month) %>% group_by(year,month)%>% tally()%>% mutate(monthYear = paste(month, year, sep = \" \")) %>% as.data.frame() \n",
    "\n",
    "  wyn2 <- Users %>% left_join(Comments, by = c(\"UserId\" = \"UserId\")) %>% select(UserId, CommentCreatDate, CommentId) %>% mutate(date = substr(CommentCreatDate, 1, 10)) %>% mutate(date2 = as.Date(date, \"%Y-%m-%d\")) %>% mutate(month = format(date2, \"%m\"))%>% mutate(year = format(date2, \"%Y\")) %>%  mutate(CommentId2 = as.integer(CommentId)) %>% select( month, year, CommentId2)  %>% as.data.frame() %>% arrange(CommentId2, year, month)%>% group_by(year,month)%>% tally()%>% mutate(monthYear = paste(month, year, sep = \" \"))%>% as.data.frame()\n",
    "  \n",
    "  \n",
    "  wyn3<- wyn1 %>% full_join(wyn2, by = c(\"monthYear\" = \"monthYear\"))\n",
    "  \n",
    "  temp <- is.na(wyn3$n.y)\n",
    "  wyn3$n.y[temp] <- 0\n",
    "  \n",
    "  temp <- is.na(wyn3$n.x)\n",
    "  wyn3$n.x[temp] <- 0\n",
    "  wyn3 <- wyn3 %>% mutate (aktywnosc = (wyn3$n.x + wyn3$n.y)) %>% select (monthYear, aktywnosc)\n",
    "  \n",
    "\n",
    "  \n",
    "  \n",
    "  head(wyn3, length(wyn3$aktywnosc))\n",
    "\n",
    "}\n"
   ]
  },
  {
   "cell_type": "code",
   "execution_count": 3,
   "id": "e3044ab2-5617-4d16-9538-6a5b79eff423",
   "metadata": {},
   "outputs": [],
   "source": [
    "AndroidComments <- xmlParse(\"AndroidComments.xml\")\n",
    "AndroidComments <- bind_rows(sapply(xmlChildren(xmlRoot(AndroidComments)), xmlAttrs, simplify = FALSE))\n",
    "AppleComments <- xmlParse(\"AppleComments.xml\")\n",
    "AppleComments <- bind_rows(sapply(xmlChildren(xmlRoot(AppleComments)), xmlAttrs, simplify = FALSE))\n",
    "WindowsPhoneComments <- xmlParse(\"WindowsPhoneComments.xml\")\n",
    "WindowsPhoneComments <- bind_rows(sapply(xmlChildren(xmlRoot(WindowsPhoneComments)), xmlAttrs, simplify = FALSE))\n",
    "\n",
    "AndroidUsers <- xmlParse(\"AndroidUsers.xml\")\n",
    "AndroidUsers <- bind_rows(sapply(xmlChildren(xmlRoot(AndroidUsers)), xmlAttrs, simplify = FALSE))\n",
    "AppleUsers <- xmlParse(\"AppleUsers.xml\")\n",
    "AppleUsers <- bind_rows(sapply(xmlChildren(xmlRoot(AppleUsers)), xmlAttrs, simplify = FALSE))\n",
    "WindowsPhoneUsers <- xmlParse(\"WindowsPhoneUsers.xml\")\n",
    "WindowsPhoneUsers <- bind_rows(sapply(xmlChildren(xmlRoot(WindowsPhoneUsers)), xmlAttrs, simplify = FALSE))\n",
    "\n",
    "AndroidPosts <- xmlParse(\"AndroidPosts.xml\")\n",
    "AndroidPosts <- bind_rows(sapply(xmlChildren(xmlRoot(AndroidPosts)), xmlAttrs, simplify = FALSE))\n",
    "ApplePosts <- xmlParse(\"ApplePosts.xml\")\n",
    "ApplePosts <- bind_rows(sapply(xmlChildren(xmlRoot(ApplePosts)), xmlAttrs, simplify = FALSE))\n",
    "WindowsPhonePosts <- xmlParse(\"WindowsPhonePosts.xml\")\n",
    "WindowsPhonePosts <- bind_rows(sapply(xmlChildren(xmlRoot(WindowsPhonePosts)), xmlAttrs, simplify = FALSE))"
   ]
  },
  {
   "cell_type": "code",
   "execution_count": 8,
   "id": "78e3f9b6-86d1-48c4-b746-7d26935dc5f0",
   "metadata": {},
   "outputs": [
    {
     "data": {
      "text/html": [
       "<table class=\"dataframe\">\n",
       "<caption>A data.frame: 1 × 2</caption>\n",
       "<thead>\n",
       "\t<tr><th></th><th scope=col>monthYear</th><th scope=col>aktywnosc</th></tr>\n",
       "\t<tr><th></th><th scope=col>&lt;chr&gt;</th><th scope=col>&lt;dbl&gt;</th></tr>\n",
       "</thead>\n",
       "<tbody>\n",
       "\t<tr><th scope=row>NA</th><td>NA</td><td>NA</td></tr>\n",
       "</tbody>\n",
       "</table>\n"
      ],
      "text/latex": [
       "A data.frame: 1 × 2\n",
       "\\begin{tabular}{r|ll}\n",
       "  & monthYear & aktywnosc\\\\\n",
       "  & <chr> & <dbl>\\\\\n",
       "\\hline\n",
       "\tNA & NA & NA\\\\\n",
       "\\end{tabular}\n"
      ],
      "text/markdown": [
       "\n",
       "A data.frame: 1 × 2\n",
       "\n",
       "| <!--/--> | monthYear &lt;chr&gt; | aktywnosc &lt;dbl&gt; |\n",
       "|---|---|---|\n",
       "| NA | NA | NA |\n",
       "\n"
      ],
      "text/plain": [
       "   monthYear aktywnosc\n",
       "NA NA        NA       "
      ]
     },
     "metadata": {},
     "output_type": "display_data"
    }
   ],
   "source": [
    "AndroidPyt3 <- pytanie3(AndroidUsers,AndroidPosts,AndroidComments)\n",
    "ApplePyt3 <- pytanie3(AppleUsers,ApplePosts,AppleComments)\n",
    "WindowsPyt3 <- pytanie3(WindowsPhoneUsers,WindowsPhonePosts,WindowsPhoneComments)\n"
   ]
  },
  {
   "cell_type": "code",
   "execution_count": 18,
   "id": "b8c25c89-1d22-4dae-b384-4c8e2d018735",
   "metadata": {},
   "outputs": [],
   "source": [
    "AndroidPyt3 <- AndroidPyt3[-139,]"
   ]
  },
  {
   "cell_type": "code",
   "execution_count": 20,
   "id": "1080208d-0b98-43bb-9cb7-0d310da2a99f",
   "metadata": {},
   "outputs": [],
   "source": [
    "ApplePyt3 <- ApplePyt3[-145,]"
   ]
  },
  {
   "cell_type": "code",
   "execution_count": 23,
   "id": "8d91187b-47d3-40c2-ae6d-eb222d1e80b3",
   "metadata": {},
   "outputs": [],
   "source": [
    "WindowsPyt3 <- WindowsPyt3[-107,]"
   ]
  },
  {
   "cell_type": "code",
   "execution_count": 26,
   "id": "28d892b2-7650-43a6-bb02-64df6309d801",
   "metadata": {},
   "outputs": [],
   "source": [
    "write.csv(AndroidPyt3, file = \"AndroidPyt3.csv\", row.names = FALSE)\n",
    "write.csv(ApplePyt3, file = \"ApplePyt3.csv\", row.names = FALSE)\n",
    "write.csv(WindowsPyt3, file = \"WindowsPyt3.csv\", row.names = FALSE)"
   ]
  },
  {
   "cell_type": "code",
   "execution_count": null,
   "id": "e9a1b978-9383-48e0-9637-c12ede9679a3",
   "metadata": {},
   "outputs": [],
   "source": []
  }
 ],
 "metadata": {
  "kernelspec": {
   "display_name": "R",
   "language": "R",
   "name": "ir"
  },
  "language_info": {
   "codemirror_mode": "r",
   "file_extension": ".r",
   "mimetype": "text/x-r-source",
   "name": "R",
   "pygments_lexer": "r",
   "version": "4.1.0"
  }
 },
 "nbformat": 4,
 "nbformat_minor": 5
}
