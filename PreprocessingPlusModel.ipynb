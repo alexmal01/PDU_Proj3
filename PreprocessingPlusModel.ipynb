{
 "cells": [
  {
   "cell_type": "code",
   "execution_count": null,
   "id": "c87c626c-855d-4ffa-8f5b-6df3646cb526",
   "metadata": {},
   "outputs": [],
   "source": [
    "import numpy as np, pandas as pd, pandas_read_xml as pdx\n",
    "import xml.etree.ElementTree as et "
   ]
  },
  {
   "cell_type": "code",
   "execution_count": null,
   "id": "9ea13f4b-c354-4aa0-b048-ddbab93f8932",
   "metadata": {},
   "outputs": [],
   "source": [
    "def parse_XML(xml_file, df_cols): \n",
    "    \n",
    "    xtree = et.parse(xml_file)\n",
    "    xroot = xtree.getroot()\n",
    "    rows = []\n",
    "    \n",
    "    for node in xroot: \n",
    "        res = []\n",
    "        res.append(node.attrib.get(df_cols[0]))\n",
    "        for el in df_cols[1:]: \n",
    "            if node is not None and node.find(el) is not None:\n",
    "                res.append(node.find(el).text)\n",
    "            else: \n",
    "                res.append(None)\n",
    "        rows.append({df_cols[i]: res[i] \n",
    "                     for i, _ in enumerate(df_cols)})\n",
    "    \n",
    "    out_df = pd.DataFrame(rows, columns=df_cols)\n",
    "        \n",
    "    return out_df"
   ]
  },
  {
   "cell_type": "code",
   "execution_count": null,
   "id": "8ebeac53-4df1-429f-808b-49887cddb45b",
   "metadata": {},
   "outputs": [],
   "source": [
    "AndroidBadges = pd.read_csv(\"AndroidBadges.csv\")\n",
    "AndroidComments = pd.read_csv(\"AndroidComments.csv\")\n",
    "AndroidPostHistory = pd.read_csv(\"AndroidPostHistory.csv\")\n",
    "AndroidPostLinks = pd.read_csv(\"AndroidPostLinks.csv\")\n",
    "AndroidPosts = pd.read_csv(\"AndroidPosts.csv\")\n",
    "AndroidUsers = pd.read_csv(\"AndroidUsers.csv\")\n",
    "AndroidVotes = pd.read_csv(\"AndroidVotes.csv\")\n",
    "\n",
    "AppleBadges = pd.read_csv(\"AppleBadges.csv\")\n",
    "AppleComments = pd.read_csv(\"AppleComments.csv\")\n",
    "ApplePostHistory = pd.read_csv(\"ApplePostHistory.csv\")\n",
    "ApplePostLinks = pd.read_csv(\"ApplePostLinks.csv\")\n",
    "ApplePosts = pd.read_csv(\"ApplePosts.csv\")\n",
    "AppleUsers = pd.read_csv(\"AppleUsers.csv\")\n",
    "AppleVotes = pd.read_csv(\"AppleVotes.csv\")\n",
    "\n",
    "WindowsPhoneBadges = pd.read_csv(\"WindowsPhoneBadges.csv\")\n",
    "WindowsPhoneComments = pd.read_csv(\"WindowsPhoneComments.csv\")\n",
    "WindowsPhonePostHistory = pd.read_csv(\"WindowsPhonePostHistory.csv\")\n",
    "WindowsPhonePostLinks = pd.read_csv(\"WindowsPhonePostLinks.csv\")\n",
    "WindowsPhonePosts = pd.read_csv(\"WindowsPhonePosts.csv\")\n",
    "WindowsPhoneUsers = pd.read_csv(\"WindowsPhoneUsers.csv\")\n",
    "WindowsPhoneVotes = pd.read_csv(\"WindowsPhoneVotes.csv\")\n",
    "\n",
    "AndroidPyt1 = pd.read_csv(\"AndroidPyt1.csv\")\n",
    "AndroidPyt2 = pd.read_csv(\"AndroidPyt2.csv\")\n",
    "AndroidPyt3 = pd.read_csv(\"AndroidPyt3.csv\")\n",
    "AndroidPyt4 = pd.read_csv(\"AndroidPyt4Model.csv\")\n",
    "\n",
    "ApplePyt1 = pd.read_csv(\"ApplePyt1.csv\")\n",
    "ApplePyt2 = pd.read_csv(\"ApplePyt2.csv\")\n",
    "ApplePyt3 = pd.read_csv(\"ApplePyt3.csv\")\n",
    "ApplePyt4 = pd.read_csv(\"ApplePyt4Model.csv\")\n",
    "\n",
    "WindowsPhonePyt1 = pd.read_csv(\"WindowsPhonePyt1.csv\")\n",
    "WindowsPhonePyt2 = pd.read_csv(\"WindowsPhonePyt2.csv\")\n",
    "WindowsPhonePyt3 = pd.read_csv(\"WindowsPhonePyt3.csv\")\n",
    "WindowsPhonePyt4 = pd.read_csv(\"WindowsPhonePyt4Model.csv\")"
   ]
  },
  {
   "cell_type": "code",
   "execution_count": null,
   "id": "d8812083-b850-46de-9710-9d1d934b90cf",
   "metadata": {},
   "outputs": [],
   "source": [
    "import pandas as pd\n",
    "import numpy as np\n",
    "\n",
    "import matplotlib.pyplot as plt\n",
    "import matplotlib.image as mpimg\n",
    "\n",
    "import seaborn as sns\n",
    "import glob\n",
    "from pathlib import Path\n",
    "import re\n",
    "from skimage import color, exposure\n",
    "from sklearn import linear_model\n",
    "from sklearn.model_selection import train_test_split"
   ]
  },
  {
   "cell_type": "code",
   "execution_count": null,
   "id": "facbc363-0fec-480d-8f65-5c13f02da4ce",
   "metadata": {},
   "outputs": [],
   "source": [
    "WindowsPhonePyt4 = pd.read_csv(\"WindowsPhonePyt4Model.csv\")\n",
    "ApplePyt4 = pd.read_csv(\"ApplePyt4Model.csv\")\n",
    "AndroidPyt4 = pd.read_csv(\"AndroidPyt4Model.csv\")"
   ]
  },
  {
   "cell_type": "code",
   "execution_count": null,
   "id": "2a335e2e-7f86-497e-b2f8-061c2a204562",
   "metadata": {},
   "outputs": [],
   "source": [
    "def check_if_na_present(df):\n",
    "    print(df.shape)\n",
    "    tab = []\n",
    "    for it in df.index:\n",
    "        tab.append(df.loc[it].isna().sum().sum())\n",
    "    np.unique(np.array(tab),return_counts = True)\n",
    "    plt.hist(tab, bins=100)"
   ]
  },
  {
   "cell_type": "code",
   "execution_count": null,
   "id": "ef96c132-16f0-4ca9-8776-e7c239e1ca00",
   "metadata": {},
   "outputs": [],
   "source": [
    "check_if_na_present(WindowsPhonePyt4)"
   ]
  },
  {
   "cell_type": "code",
   "execution_count": null,
   "id": "75b60fb7-0dba-4d61-918d-f42422ed741e",
   "metadata": {},
   "outputs": [],
   "source": [
    "check_if_na_present(ApplePyt4)"
   ]
  },
  {
   "cell_type": "code",
   "execution_count": null,
   "id": "15028695-dd3d-48b9-8e4d-17605f79f201",
   "metadata": {},
   "outputs": [],
   "source": [
    "check_if_na_present(AndroidPyt4)"
   ]
  },
  {
   "cell_type": "code",
   "execution_count": null,
   "id": "b32113ec-3112-46c7-bf1c-32e743e5add9",
   "metadata": {},
   "outputs": [],
   "source": [
    "AndroidPyt4[\"UpVotes\"].dtypes"
   ]
  },
  {
   "cell_type": "code",
   "execution_count": null,
   "id": "0a6224e6-cc51-465d-8431-a3952557c811",
   "metadata": {},
   "outputs": [],
   "source": [
    "AndroidPyt4[\"UpVotes\"].max()"
   ]
  },
  {
   "cell_type": "code",
   "execution_count": null,
   "id": "0d2e5697-7f33-47cd-b8e6-83724944ede8",
   "metadata": {},
   "outputs": [],
   "source": [
    "ApplePyt4[\"UpVotes\"].max()"
   ]
  },
  {
   "cell_type": "code",
   "execution_count": null,
   "id": "45500e94-22b3-4bbf-ae3e-940f5cf0e8ee",
   "metadata": {},
   "outputs": [],
   "source": [
    "WindowsPhonePyt4[\"UpVotes\"].max()"
   ]
  },
  {
   "cell_type": "code",
   "execution_count": null,
   "id": "b4aaec5a-4c20-4dc8-97ab-f262e8733e2c",
   "metadata": {},
   "outputs": [],
   "source": [
    "print(AndroidPyt4[\"Reputation\"].max())\n",
    "print(ApplePyt4[\"Reputation\"].max())\n",
    "print(WindowsPhonePyt4[\"Reputation\"].max())"
   ]
  },
  {
   "cell_type": "code",
   "execution_count": null,
   "id": "e9909cab-690c-4f35-8bae-d62cef10ed6d",
   "metadata": {},
   "outputs": [],
   "source": [
    "def switch_to_int32(df):\n",
    "    for col in df.columns:\n",
    "        if df[col].dtypes == 'int64':\n",
    "            df[col] = df[col].astype('int32')"
   ]
  },
  {
   "cell_type": "code",
   "execution_count": null,
   "id": "8ebdda7e-1c05-4f85-8d2f-6c35d15e6a8d",
   "metadata": {},
   "outputs": [],
   "source": [
    "switch_to_int32(AndroidPyt4)\n",
    "switch_to_int32(ApplePyt4)\n",
    "switch_to_int32(WindowsPhonePyt4)\n",
    "AndroidPyt4.info()\n",
    "ApplePyt4.info()\n",
    "WindowsPhonePyt4.info()"
   ]
  },
  {
   "cell_type": "code",
   "execution_count": null,
   "id": "03ca346f-33c7-49d4-a1d3-4971df822760",
   "metadata": {},
   "outputs": [],
   "source": [
    "AndroidPyt4.isna().sum()"
   ]
  },
  {
   "cell_type": "code",
   "execution_count": null,
   "id": "852345d9-b8d1-4784-97e2-3b19bec6a55d",
   "metadata": {},
   "outputs": [],
   "source": [
    "ApplePyt4.isna().sum()"
   ]
  },
  {
   "cell_type": "code",
   "execution_count": null,
   "id": "5e82939b-cc2c-48a4-bf6c-960a6a90d360",
   "metadata": {},
   "outputs": [],
   "source": [
    "WindowsPhonePyt4.isna().sum()"
   ]
  },
  {
   "cell_type": "code",
   "execution_count": null,
   "id": "b9141c43-75e0-4d5e-b29a-d0416203f459",
   "metadata": {},
   "outputs": [],
   "source": [
    "AndroidPyt4.drop_duplicates(inplace = True)\n",
    "ApplePyt4.drop_duplicates(inplace = True)\n",
    "WindowsPhonePyt4.drop_duplicates(inplace = True)"
   ]
  },
  {
   "cell_type": "code",
   "execution_count": null,
   "id": "e0c7a787-a7fc-4fa0-885f-d70b048629ba",
   "metadata": {},
   "outputs": [],
   "source": [
    "!pip install scikit-plot\n",
    "!pip install catboost\n",
    "!pip install eli5\n",
    "!pip install xgboost\n",
    "!pip install lightgbm\n",
    "!pip install hyperopt"
   ]
  },
  {
   "cell_type": "code",
   "execution_count": null,
   "id": "aaa5eb3d-f075-4e50-b5cd-4e93f6c718ce",
   "metadata": {},
   "outputs": [],
   "source": [
    "from sklearn.linear_model import LogisticRegression\n",
    "from sklearn.tree import DecisionTreeRegressor\n",
    "from sklearn.ensemble import RandomForestRegressor, ExtraTreesRegressor\n",
    "\n",
    "import scikitplot as skplt\n",
    "from scikitplot.estimators import plot_learning_curve\n",
    "from sklearn.metrics import make_scorer, f1_score, precision_score, recall_score, accuracy_score, r2_score\n",
    "from sklearn.metrics import  roc_curve, roc_auc_score, confusion_matrix\n",
    "from sklearn.model_selection import cross_val_score, train_test_split\n",
    "from sklearn.model_selection import train_test_split\n",
    "from sklearn.metrics import plot_confusion_matrix\n",
    "from sklearn.model_selection import StratifiedShuffleSplit\n",
    "\n",
    "import xgboost as xgb\n",
    "import lightgbm as lgb\n",
    "import catboost as ctb\n",
    "\n",
    "import matplotlib.pyplot as plt\n",
    "import matplotlib.image as mpimg\n",
    "\n",
    "import seaborn as sns\n",
    "import glob\n",
    "\n",
    "from skimage import color, exposure\n",
    "\n",
    "\n",
    "from time import time\n",
    "import scipy.stats as stats\n",
    "from sklearn.utils.fixes import loguniform\n",
    "from scipy.stats import uniform\n",
    "\n",
    "from functools import partial\n",
    "from hyperopt import fmin, tpe, hp, STATUS_OK, Trials\n",
    "\n",
    "import re\n",
    "import eli5\n",
    "from eli5.sklearn import PermutationImportance\n",
    "from sklearn.neighbors import KNeighborsRegressor\n",
    "from sklearn.ensemble import GradientBoostingRegressor\n",
    "from sklearn.svm import LinearSVC\n",
    "from sklearn.ensemble import AdaBoostRegressor"
   ]
  },
  {
   "cell_type": "code",
   "execution_count": null,
   "id": "2ad11690-1707-475e-b31b-18acef3d17b4",
   "metadata": {},
   "outputs": [],
   "source": [
    "models = {\n",
    "    'LGR': LogisticRegression(solver = 'lbfgs', random_state=42, verbose=0),\n",
    "    'DTR': DecisionTreeRegressor(random_state=42),\n",
    "    'RFR': RandomForestRegressor(random_state=42),\n",
    "    'ETR': ExtraTreesRegressor(random_state=42),\n",
    "    'XGB': xgb.XGBRegressor(random_state=42),\n",
    "    'LGBM': lgb.LGBMRegressor(random_state=42),\n",
    "    'KNR': KNeighborsRegressor(),\n",
    "    'GBR': GradientBoostingRegressor(random_state=42),\n",
    "    'LSVC': LinearSVC(random_state=42)\n",
    "}\n"
   ]
  },
  {
   "cell_type": "code",
   "execution_count": null,
   "id": "95caf717-c356-4265-9ac4-91a81b6190e5",
   "metadata": {},
   "outputs": [],
   "source": [
    "def train_model(model,X,y):\n",
    "    model.fit(X,y)\n",
    "    return model"
   ]
  },
  {
   "cell_type": "code",
   "execution_count": null,
   "id": "1b9d4d07-e4df-4b23-b09a-686d134ba36c",
   "metadata": {},
   "outputs": [],
   "source": [
    "def predict_model(model,X):\n",
    "    y_pred = model.predict(X)\n",
    "    return y_pred"
   ]
  },
  {
   "cell_type": "code",
   "execution_count": null,
   "id": "81f6d1ce-4ba7-4e0e-9e55-67414ece7cc5",
   "metadata": {},
   "outputs": [],
   "source": [
    "def score_model(y_test,y_pred,scoring):\n",
    "    score = scoring(y_test,y_pred,average = 'micro')\n",
    "    return score"
   ]
  },
  {
   "cell_type": "code",
   "execution_count": null,
   "id": "2bcc94ef-5e01-46db-93f0-686dd0f1cc3a",
   "metadata": {},
   "outputs": [],
   "source": [
    "def train_and_predict(model,X,y,scoring):\n",
    "    scores = cross_val_score(model,X,y,cv = 3, scoring = scoring)\n",
    "    return np.mean(scores),np.std(scores)"
   ]
  },
  {
   "cell_type": "code",
   "execution_count": null,
   "id": "885437c3-61a4-4863-b9ee-140180bfef07",
   "metadata": {},
   "outputs": [],
   "source": [
    "def split_data(df):\n",
    "    features = [feature for feature in df.columns if feature != 'Reputation' and feature != 'Id']\n",
    "    X = df[features]\n",
    "    y = df['Reputation']\n",
    "    return X,y\n"
   ]
  },
  {
   "cell_type": "code",
   "execution_count": null,
   "id": "57114fa9-6726-4127-a137-f7af49458e69",
   "metadata": {},
   "outputs": [],
   "source": [
    "def run_model(model, df):\n",
    "    df = df.sample(frac = 0.1)\n",
    "    X,y = split_data(df)\n",
    "    print(y.factorize()[0])\n",
    "    y = y.factorize()[0]\n",
    "    X_train,X_test,y_train,y_test = train_test_split(X,y,test_size = 0.2,random_state = 42)\n",
    "    model = train_model(model,X_train,y_train)\n",
    "    y_pred = predict_model(model,X_test)\n",
    "    r2 = r2_score(y_test,y_pred)\n",
    "    print(y_pred,'\\n')\n",
    "    print('r2_score: ',r2)\n",
    "    plot_learning_curve(model,X_test,y_test,scoring = 'f1_micro')\n",
    "    plt.show()\n",
    "    indexes = []\n",
    "    res = []\n",
    "    for i in range(10000):\n",
    "        res.append((abs(y_pred/y_test - 1)*100 <= i/10000*100).mean()*100)\n",
    "        indexes.append(i/10000*100)\n",
    "    plt.figure(dpi=500)\n",
    "    s = (str(model))[:99]\n",
    "    plt.plot(indexes,res)\n",
    "    plt.title(s)\n",
    "    plt.xlabel('Error margin')\n",
    "    plt.ylabel('Percentage')\n",
    "    print(\"\\n\\n\\n\\n\\n\\n\\n\")"
   ]
  },
  {
   "cell_type": "code",
   "execution_count": null,
   "id": "4eb31e10-66df-45c0-b124-a765e9f8ce58",
   "metadata": {},
   "outputs": [],
   "source": [
    "import warnings\n",
    "warnings.filterwarnings(\"ignore\")"
   ]
  },
  {
   "cell_type": "code",
   "execution_count": null,
   "id": "db2cd697-968e-4e9d-9926-6063bd00d450",
   "metadata": {},
   "outputs": [],
   "source": [
    "for model in models.items():\n",
    "    s = str(model[0])\n",
    "    print((str(model[0]))[:19])\n",
    "    print(type(s))\n",
    "    #print(s[:6])\n",
    "    run_model(model[1],WindowsPhonePyt4)"
   ]
  },
  {
   "cell_type": "code",
   "execution_count": null,
   "id": "6221a5f2-acba-430a-8eba-27ab2340ed94",
   "metadata": {},
   "outputs": [],
   "source": [
    "WindowsPhoneUsers = pd.read_csv(\"WindowsPhoneUsers.csv\")\n",
    "AppleUsers = pd.read_csv(\"AppleUsers.csv\")\n",
    "AndroidUsers = pd.read_csv(\"AndroidUsers.csv\")\n",
    "WindowsPhonePosts = pd.read_csv(\"WindowsPhonePosts.csv\")\n",
    "ApplePosts = pd.read_csv(\"ApplePosts.csv\")\n",
    "AndroidPosts = pd.read_csv(\"AndroidPosts.csv\")\n",
    "WindowsPhonePostLinks = pd.read_csv(\"WindowsPhonePostLinks.csv\")\n",
    "ApplePostLinks = pd.read_csv(\"ApplePostLinks.csv\")\n",
    "AndroidPostLinks = pd.read_csv(\"AndroidPostLinks.csv\")\n",
    "WindowsPhoneComments = pd.read_csv(\"WindowsPhoneComments.csv\")\n",
    "AppleComments = pd.read_csv(\"AppleComments.csv\")\n",
    "AndroidComments = pd.read_csv(\"AndroidComments.csv\")"
   ]
  }
 ],
 "metadata": {
  "kernelspec": {
   "display_name": "Python 3",
   "language": "python",
   "name": "python3"
  },
  "language_info": {
   "codemirror_mode": {
    "name": "ipython",
    "version": 3
   },
   "file_extension": ".py",
   "mimetype": "text/x-python",
   "name": "python",
   "nbconvert_exporter": "python",
   "pygments_lexer": "ipython3",
   "version": "3.8.8"
  }
 },
 "nbformat": 4,
 "nbformat_minor": 5
}
